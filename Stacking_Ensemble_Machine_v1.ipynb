{
 "cells": [
  {
   "cell_type": "markdown",
   "id": "01a7e34e",
   "metadata": {},
   "source": [
    "## Stacking Ensemble Machine Learning With Python"
   ]
  },
  {
   "cell_type": "code",
   "execution_count": 1,
   "id": "eadbd02c",
   "metadata": {},
   "outputs": [
    {
     "name": "stdout",
     "output_type": "stream",
     "text": [
      "1.0.2\n"
     ]
    }
   ],
   "source": [
    "#Loading Required Libraries\n",
    "import pandas as pd\n",
    "import numpy as np\n",
    "import matplotlib.pyplot as plt\n",
    "import seaborn as sns\n",
    "import sklearn\n",
    "from numpy import mean\n",
    "from numpy import std\n",
    "\n",
    "from sklearn.linear_model import LogisticRegression\n",
    "from sklearn.neighbors import KNeighborsClassifier\n",
    "from sklearn.tree import DecisionTreeClassifier\n",
    "from sklearn.svm import SVC\n",
    "from sklearn.naive_bayes import GaussianNB\n",
    "from sklearn.ensemble import RandomForestClassifier\n",
    "from sklearn.neural_network import MLPClassifier\n",
    "\n",
    "\n",
    "from sklearn.metrics import accuracy_score\n",
    "from sklearn.metrics import matthews_corrcoef\n",
    "from sklearn.metrics import f1_score\n",
    "print(sklearn.__version__)"
   ]
  },
  {
   "cell_type": "markdown",
   "id": "a206e993",
   "metadata": {},
   "source": [
    "### Loading Dataset"
   ]
  },
  {
   "cell_type": "code",
   "execution_count": 2,
   "id": "e96028b7",
   "metadata": {},
   "outputs": [],
   "source": [
    "from sklearn.datasets import load_iris\n",
    "X,y=load_iris(return_X_y=True)"
   ]
  },
  {
   "cell_type": "code",
   "execution_count": 3,
   "id": "4ecc9152",
   "metadata": {},
   "outputs": [
    {
     "data": {
      "text/plain": [
       "(150, 4)"
      ]
     },
     "execution_count": 3,
     "metadata": {},
     "output_type": "execute_result"
    }
   ],
   "source": [
    "#remove low variance features\n",
    "from sklearn.feature_selection import VarianceThreshold\n",
    "\n",
    "selection=VarianceThreshold(threshold=(0.1))\n",
    "X=selection.fit_transform(X)\n",
    "X.shape"
   ]
  },
  {
   "cell_type": "markdown",
   "id": "5d361917",
   "metadata": {},
   "source": [
    "### Data Spliting"
   ]
  },
  {
   "cell_type": "code",
   "execution_count": 4,
   "id": "479f51a8",
   "metadata": {},
   "outputs": [],
   "source": [
    "from sklearn.model_selection import train_test_split\n",
    "\n",
    "xtrain, xtest, ytrain, ytest=train_test_split(X,y,test_size=0.2,random_state=42)"
   ]
  },
  {
   "cell_type": "code",
   "execution_count": 5,
   "id": "07356915",
   "metadata": {},
   "outputs": [
    {
     "data": {
      "text/plain": [
       "((120, 4), (30, 4))"
      ]
     },
     "execution_count": 5,
     "metadata": {},
     "output_type": "execute_result"
    }
   ],
   "source": [
    "xtrain.shape, xtest.shape"
   ]
  },
  {
   "cell_type": "code",
   "execution_count": 6,
   "id": "8e165046",
   "metadata": {},
   "outputs": [
    {
     "data": {
      "text/plain": [
       "((120,), (30,))"
      ]
     },
     "execution_count": 6,
     "metadata": {},
     "output_type": "execute_result"
    }
   ],
   "source": [
    "ytrain.shape,ytest.shape"
   ]
  },
  {
   "cell_type": "markdown",
   "id": "766d227d",
   "metadata": {},
   "source": [
    "### Build Stacked and Classification Models"
   ]
  },
  {
   "cell_type": "code",
   "execution_count": 7,
   "id": "f23f1910",
   "metadata": {},
   "outputs": [],
   "source": [
    "#define estimators\n",
    "# for Regression: StackingRegression; and classifier: StackingClassifier\n",
    "from sklearn.ensemble import StackingClassifier\n",
    "from sklearn.linear_model import LogisticRegression\n"
   ]
  },
  {
   "cell_type": "code",
   "execution_count": 8,
   "id": "bf061615",
   "metadata": {},
   "outputs": [],
   "source": [
    "estimator_list=[('lr',LogisticRegression()),\n",
    "                ('knn',KNeighborsClassifier(3)),\n",
    "                ('dtc',DecisionTreeClassifier()),\n",
    "                ('svm',SVC()),('gnb',GaussianNB()),\n",
    "                ('rf',RandomForestClassifier()),\n",
    "                ('mlp',MLPClassifier())\n",
    "               ]"
   ]
  },
  {
   "cell_type": "code",
   "execution_count": 9,
   "id": "00f4abda",
   "metadata": {},
   "outputs": [],
   "source": [
    "# evaluation the models\n",
    "def evaluate_model(**kwargs):\n",
    "    result=[]\n",
    "    for name,model in kwargs.items():\n",
    "        model=model.fit(xtrain,ytrain)\n",
    "        y_train_pred = model.predict(xtrain)\n",
    "        y_test_pred = model.predict(xtest)\n",
    "        #train evaluation\n",
    "        train_accuracy = accuracy_score(ytrain, y_train_pred)\n",
    "        train_matthews_corrcoef = matthews_corrcoef(ytrain, y_train_pred) # Calculate MCC\n",
    "        train_f1 = f1_score(ytrain, y_train_pred, average='weighted') # Calculate F1-score\n",
    "\n",
    "        #test evaluation\n",
    "        test_accuracy = accuracy_score(ytest, y_test_pred)\n",
    "        test_matthews_corrcoef = matthews_corrcoef(ytest, y_test_pred) # Calculate MCC\n",
    "        test_f1 = f1_score(ytest, y_test_pred, average='weighted') # Calculate F1-score\n",
    "\n",
    "        x= {'Model_Name':name,\n",
    "            'train_accuracy':train_accuracy, \n",
    "            'train_matthews_corrcoef':train_matthews_corrcoef,\n",
    "            'train_f1':train_f1, \n",
    "            'test_accuracy':test_accuracy, \n",
    "            'test_matthews_corrcoef':test_matthews_corrcoef,\n",
    "            'test_f1':test_f1}\n",
    "        result.append(x)\n",
    "    return result"
   ]
  },
  {
   "cell_type": "code",
   "execution_count": 10,
   "id": "fcbbbcb7",
   "metadata": {},
   "outputs": [],
   "source": [
    "stack_model = StackingClassifier(\n",
    "    estimators=estimator_list, final_estimator=LogisticRegression()\n",
    ")"
   ]
  },
  {
   "cell_type": "code",
   "execution_count": 11,
   "id": "d793bc8f",
   "metadata": {},
   "outputs": [
    {
     "name": "stderr",
     "output_type": "stream",
     "text": [
      "/opt/homebrew/Caskroom/miniforge/base/envs/tensorflow/lib/python3.9/site-packages/sklearn/neural_network/_multilayer_perceptron.py:692: ConvergenceWarning: Stochastic Optimizer: Maximum iterations (200) reached and the optimization hasn't converged yet.\n",
      "  warnings.warn(\n",
      "/opt/homebrew/Caskroom/miniforge/base/envs/tensorflow/lib/python3.9/site-packages/sklearn/linear_model/_logistic.py:814: ConvergenceWarning: lbfgs failed to converge (status=1):\n",
      "STOP: TOTAL NO. of ITERATIONS REACHED LIMIT.\n",
      "\n",
      "Increase the number of iterations (max_iter) or scale the data as shown in:\n",
      "    https://scikit-learn.org/stable/modules/preprocessing.html\n",
      "Please also refer to the documentation for alternative solver options:\n",
      "    https://scikit-learn.org/stable/modules/linear_model.html#logistic-regression\n",
      "  n_iter_i = _check_optimize_result(\n",
      "/opt/homebrew/Caskroom/miniforge/base/envs/tensorflow/lib/python3.9/site-packages/sklearn/linear_model/_logistic.py:814: ConvergenceWarning: lbfgs failed to converge (status=1):\n",
      "STOP: TOTAL NO. of ITERATIONS REACHED LIMIT.\n",
      "\n",
      "Increase the number of iterations (max_iter) or scale the data as shown in:\n",
      "    https://scikit-learn.org/stable/modules/preprocessing.html\n",
      "Please also refer to the documentation for alternative solver options:\n",
      "    https://scikit-learn.org/stable/modules/linear_model.html#logistic-regression\n",
      "  n_iter_i = _check_optimize_result(\n",
      "/opt/homebrew/Caskroom/miniforge/base/envs/tensorflow/lib/python3.9/site-packages/sklearn/neural_network/_multilayer_perceptron.py:692: ConvergenceWarning: Stochastic Optimizer: Maximum iterations (200) reached and the optimization hasn't converged yet.\n",
      "  warnings.warn(\n",
      "/opt/homebrew/Caskroom/miniforge/base/envs/tensorflow/lib/python3.9/site-packages/sklearn/neural_network/_multilayer_perceptron.py:692: ConvergenceWarning: Stochastic Optimizer: Maximum iterations (200) reached and the optimization hasn't converged yet.\n",
      "  warnings.warn(\n",
      "/opt/homebrew/Caskroom/miniforge/base/envs/tensorflow/lib/python3.9/site-packages/sklearn/neural_network/_multilayer_perceptron.py:692: ConvergenceWarning: Stochastic Optimizer: Maximum iterations (200) reached and the optimization hasn't converged yet.\n",
      "  warnings.warn(\n",
      "/opt/homebrew/Caskroom/miniforge/base/envs/tensorflow/lib/python3.9/site-packages/sklearn/neural_network/_multilayer_perceptron.py:692: ConvergenceWarning: Stochastic Optimizer: Maximum iterations (200) reached and the optimization hasn't converged yet.\n",
      "  warnings.warn(\n",
      "/opt/homebrew/Caskroom/miniforge/base/envs/tensorflow/lib/python3.9/site-packages/sklearn/neural_network/_multilayer_perceptron.py:692: ConvergenceWarning: Stochastic Optimizer: Maximum iterations (200) reached and the optimization hasn't converged yet.\n",
      "  warnings.warn(\n"
     ]
    }
   ],
   "source": [
    "model_result=evaluate_model(lr=LogisticRegression(),knn=KNeighborsClassifier(n_neighbors=3),\n",
    "               dtc=DecisionTreeClassifier(),svm=SVC(),gnb=GaussianNB(),\n",
    "               rf=RandomForestClassifier(),mlp=MLPClassifier(alpha=1, max_iter=1000),\n",
    "               stack_model=StackingClassifier(estimators=estimator_list, final_estimator=LogisticRegression())\n",
    "              )"
   ]
  },
  {
   "cell_type": "code",
   "execution_count": 12,
   "id": "e2da73a0",
   "metadata": {},
   "outputs": [
    {
     "data": {
      "text/plain": [
       "[{'Model_Name': 'lr',\n",
       "  'train_accuracy': 0.975,\n",
       "  'train_matthews_corrcoef': 0.9634184941988289,\n",
       "  'train_f1': 0.9749882794186592,\n",
       "  'test_accuracy': 1.0,\n",
       "  'test_matthews_corrcoef': 1.0,\n",
       "  'test_f1': 1.0},\n",
       " {'Model_Name': 'knn',\n",
       "  'train_accuracy': 0.95,\n",
       "  'train_matthews_corrcoef': 0.9249843717441134,\n",
       "  'train_f1': 0.95,\n",
       "  'test_accuracy': 1.0,\n",
       "  'test_matthews_corrcoef': 1.0,\n",
       "  'test_f1': 1.0},\n",
       " {'Model_Name': 'dtc',\n",
       "  'train_accuracy': 1.0,\n",
       "  'train_matthews_corrcoef': 1.0,\n",
       "  'train_f1': 1.0,\n",
       "  'test_accuracy': 1.0,\n",
       "  'test_matthews_corrcoef': 1.0,\n",
       "  'test_f1': 1.0},\n",
       " {'Model_Name': 'svm',\n",
       "  'train_accuracy': 0.975,\n",
       "  'train_matthews_corrcoef': 0.9626002760850769,\n",
       "  'train_f1': 0.975003906860447,\n",
       "  'test_accuracy': 1.0,\n",
       "  'test_matthews_corrcoef': 1.0,\n",
       "  'test_f1': 1.0},\n",
       " {'Model_Name': 'gnb',\n",
       "  'train_accuracy': 0.95,\n",
       "  'train_matthews_corrcoef': 0.9249843717441134,\n",
       "  'train_f1': 0.95,\n",
       "  'test_accuracy': 1.0,\n",
       "  'test_matthews_corrcoef': 1.0,\n",
       "  'test_f1': 1.0},\n",
       " {'Model_Name': 'rf',\n",
       "  'train_accuracy': 1.0,\n",
       "  'train_matthews_corrcoef': 1.0,\n",
       "  'train_f1': 1.0,\n",
       "  'test_accuracy': 1.0,\n",
       "  'test_matthews_corrcoef': 1.0,\n",
       "  'test_f1': 1.0},\n",
       " {'Model_Name': 'mlp',\n",
       "  'train_accuracy': 0.9833333333333333,\n",
       "  'train_matthews_corrcoef': 0.9754115440716816,\n",
       "  'train_f1': 0.9833333333333333,\n",
       "  'test_accuracy': 1.0,\n",
       "  'test_matthews_corrcoef': 1.0,\n",
       "  'test_f1': 1.0},\n",
       " {'Model_Name': 'stack_model',\n",
       "  'train_accuracy': 0.9916666666666667,\n",
       "  'train_matthews_corrcoef': 0.9876028806587153,\n",
       "  'train_f1': 0.9916679689534822,\n",
       "  'test_accuracy': 1.0,\n",
       "  'test_matthews_corrcoef': 1.0,\n",
       "  'test_f1': 1.0}]"
      ]
     },
     "execution_count": 12,
     "metadata": {},
     "output_type": "execute_result"
    }
   ],
   "source": [
    "model_result"
   ]
  },
  {
   "cell_type": "code",
   "execution_count": 16,
   "id": "16f3b04f",
   "metadata": {},
   "outputs": [
    {
     "name": "stderr",
     "output_type": "stream",
     "text": [
      "/var/folders/70/xyz7khq54gx8qklx52wtt6tw0000gn/T/ipykernel_71243/1617112832.py:2: FutureWarning: Dropping of nuisance columns in DataFrame reductions (with 'numeric_only=None') is deprecated; in a future version this will raise TypeError.  Select only valid columns before calling the reduction.\n",
      "  df['Mean']=df.mean(axis=1)\n",
      "/var/folders/70/xyz7khq54gx8qklx52wtt6tw0000gn/T/ipykernel_71243/1617112832.py:3: FutureWarning: Dropping of nuisance columns in DataFrame reductions (with 'numeric_only=None') is deprecated; in a future version this will raise TypeError.  Select only valid columns before calling the reduction.\n",
      "  df['Std']=df.std(axis=1)\n"
     ]
    },
    {
     "data": {
      "text/html": [
       "<div>\n",
       "<style scoped>\n",
       "    .dataframe tbody tr th:only-of-type {\n",
       "        vertical-align: middle;\n",
       "    }\n",
       "\n",
       "    .dataframe tbody tr th {\n",
       "        vertical-align: top;\n",
       "    }\n",
       "\n",
       "    .dataframe thead th {\n",
       "        text-align: right;\n",
       "    }\n",
       "</style>\n",
       "<table border=\"1\" class=\"dataframe\">\n",
       "  <thead>\n",
       "    <tr style=\"text-align: right;\">\n",
       "      <th></th>\n",
       "      <th>Model_Name</th>\n",
       "      <th>train_accuracy</th>\n",
       "      <th>train_matthews_corrcoef</th>\n",
       "      <th>train_f1</th>\n",
       "      <th>test_accuracy</th>\n",
       "      <th>test_matthews_corrcoef</th>\n",
       "      <th>test_f1</th>\n",
       "      <th>Mean</th>\n",
       "      <th>Std</th>\n",
       "    </tr>\n",
       "  </thead>\n",
       "  <tbody>\n",
       "    <tr>\n",
       "      <th>0</th>\n",
       "      <td>lr</td>\n",
       "      <td>0.975000</td>\n",
       "      <td>0.963418</td>\n",
       "      <td>0.974988</td>\n",
       "      <td>1.0</td>\n",
       "      <td>1.0</td>\n",
       "      <td>1.0</td>\n",
       "      <td>0.985568</td>\n",
       "      <td>0.014939</td>\n",
       "    </tr>\n",
       "    <tr>\n",
       "      <th>1</th>\n",
       "      <td>knn</td>\n",
       "      <td>0.950000</td>\n",
       "      <td>0.924984</td>\n",
       "      <td>0.950000</td>\n",
       "      <td>1.0</td>\n",
       "      <td>1.0</td>\n",
       "      <td>1.0</td>\n",
       "      <td>0.970831</td>\n",
       "      <td>0.030338</td>\n",
       "    </tr>\n",
       "    <tr>\n",
       "      <th>2</th>\n",
       "      <td>dtc</td>\n",
       "      <td>1.000000</td>\n",
       "      <td>1.000000</td>\n",
       "      <td>1.000000</td>\n",
       "      <td>1.0</td>\n",
       "      <td>1.0</td>\n",
       "      <td>1.0</td>\n",
       "      <td>1.000000</td>\n",
       "      <td>0.000000</td>\n",
       "    </tr>\n",
       "    <tr>\n",
       "      <th>3</th>\n",
       "      <td>svm</td>\n",
       "      <td>0.975000</td>\n",
       "      <td>0.962600</td>\n",
       "      <td>0.975004</td>\n",
       "      <td>1.0</td>\n",
       "      <td>1.0</td>\n",
       "      <td>1.0</td>\n",
       "      <td>0.985434</td>\n",
       "      <td>0.015141</td>\n",
       "    </tr>\n",
       "    <tr>\n",
       "      <th>4</th>\n",
       "      <td>gnb</td>\n",
       "      <td>0.950000</td>\n",
       "      <td>0.924984</td>\n",
       "      <td>0.950000</td>\n",
       "      <td>1.0</td>\n",
       "      <td>1.0</td>\n",
       "      <td>1.0</td>\n",
       "      <td>0.970831</td>\n",
       "      <td>0.030338</td>\n",
       "    </tr>\n",
       "    <tr>\n",
       "      <th>5</th>\n",
       "      <td>rf</td>\n",
       "      <td>1.000000</td>\n",
       "      <td>1.000000</td>\n",
       "      <td>1.000000</td>\n",
       "      <td>1.0</td>\n",
       "      <td>1.0</td>\n",
       "      <td>1.0</td>\n",
       "      <td>1.000000</td>\n",
       "      <td>0.000000</td>\n",
       "    </tr>\n",
       "    <tr>\n",
       "      <th>6</th>\n",
       "      <td>mlp</td>\n",
       "      <td>0.983333</td>\n",
       "      <td>0.975412</td>\n",
       "      <td>0.983333</td>\n",
       "      <td>1.0</td>\n",
       "      <td>1.0</td>\n",
       "      <td>1.0</td>\n",
       "      <td>0.990346</td>\n",
       "      <td>0.010008</td>\n",
       "    </tr>\n",
       "    <tr>\n",
       "      <th>7</th>\n",
       "      <td>stack_model</td>\n",
       "      <td>0.991667</td>\n",
       "      <td>0.987603</td>\n",
       "      <td>0.991668</td>\n",
       "      <td>1.0</td>\n",
       "      <td>1.0</td>\n",
       "      <td>1.0</td>\n",
       "      <td>0.995156</td>\n",
       "      <td>0.005030</td>\n",
       "    </tr>\n",
       "  </tbody>\n",
       "</table>\n",
       "</div>"
      ],
      "text/plain": [
       "    Model_Name  train_accuracy  train_matthews_corrcoef  train_f1  \\\n",
       "0           lr        0.975000                 0.963418  0.974988   \n",
       "1          knn        0.950000                 0.924984  0.950000   \n",
       "2          dtc        1.000000                 1.000000  1.000000   \n",
       "3          svm        0.975000                 0.962600  0.975004   \n",
       "4          gnb        0.950000                 0.924984  0.950000   \n",
       "5           rf        1.000000                 1.000000  1.000000   \n",
       "6          mlp        0.983333                 0.975412  0.983333   \n",
       "7  stack_model        0.991667                 0.987603  0.991668   \n",
       "\n",
       "   test_accuracy  test_matthews_corrcoef  test_f1      Mean       Std  \n",
       "0            1.0                     1.0      1.0  0.985568  0.014939  \n",
       "1            1.0                     1.0      1.0  0.970831  0.030338  \n",
       "2            1.0                     1.0      1.0  1.000000  0.000000  \n",
       "3            1.0                     1.0      1.0  0.985434  0.015141  \n",
       "4            1.0                     1.0      1.0  0.970831  0.030338  \n",
       "5            1.0                     1.0      1.0  1.000000  0.000000  \n",
       "6            1.0                     1.0      1.0  0.990346  0.010008  \n",
       "7            1.0                     1.0      1.0  0.995156  0.005030  "
      ]
     },
     "execution_count": 16,
     "metadata": {},
     "output_type": "execute_result"
    }
   ],
   "source": [
    "df =pd.DataFrame(model_result)\n",
    "df['Mean']=df.mean(axis=1)\n",
    "df['Std']=df.std(axis=1)\n",
    "df"
   ]
  },
  {
   "cell_type": "markdown",
   "id": "c761f438",
   "metadata": {},
   "source": [
    "In this case, the stacking ensemble appears to perform better than any single model on average, achieving an accuracy of about 99.5 percent."
   ]
  },
  {
   "cell_type": "code",
   "execution_count": 14,
   "id": "5d71e1ec",
   "metadata": {
    "scrolled": false
   },
   "outputs": [
    {
     "data": {
      "image/png": "[encoded data removed]",
      "text/plain": [
       "<Figure size 720x576 with 1 Axes>"
      ]
     },
     "metadata": {
      "needs_background": "light"
     },
     "output_type": "display_data"
    }
   ],
   "source": [
    "#Plot rpresent btween model and mean value\n",
    "plt.figure(figsize=(10,8))\n",
    "sns.barplot(x='Model_Name',y='Mean',data=df)\n",
    "plt.yticks(np.arange(0, 1.5, step=0.3))\n",
    "plt.show()"
   ]
  },
  {
   "cell_type": "code",
   "execution_count": 19,
   "id": "16a3bd79",
   "metadata": {},
   "outputs": [
    {
     "data": {
      "image/png": "[encoded data removed]",
      "text/plain": [
       "<Figure size 720x576 with 1 Axes>"
      ]
     },
     "metadata": {
      "needs_background": "light"
     },
     "output_type": "display_data"
    }
   ],
   "source": [
    "#Plot rpresent btween model and std value\n",
    "plt.figure(figsize=(10,8))\n",
    "sns.barplot(x='Model_Name',y='Std',data=df)\n",
    "#plt.yticks(np.arange(0, 0.5, step=0.1))\n",
    "plt.show()"
   ]
  },
  {
   "cell_type": "code",
   "execution_count": null,
   "id": "04ec7434",
   "metadata": {},
   "outputs": [],
   "source": []
  }
 ],
 "metadata": {
  "kernelspec": {
   "display_name": "Python 3 (ipykernel)",
   "language": "python",
   "name": "python3"
  },
  "language_info": {
   "codemirror_mode": {
    "name": "ipython",
    "version": 3
   },
   "file_extension": ".py",
   "mimetype": "text/x-python",
   "name": "python",
   "nbconvert_exporter": "python",
   "pygments_lexer": "ipython3",
   "version": "3.9.7"
  }
 },
 "nbformat": 4,
 "nbformat_minor": 5
}
